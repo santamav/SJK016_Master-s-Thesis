{
 "cells": [
  {
   "cell_type": "markdown",
   "metadata": {},
   "source": [
    "# Retrieval Augmented Generation evaluation"
   ]
  },
  {
   "cell_type": "markdown",
   "metadata": {},
   "source": [
    "### LOADING"
   ]
  },
  {
   "cell_type": "markdown",
   "metadata": {},
   "source": [
    "#### Load Embedings"
   ]
  },
  {
   "cell_type": "code",
   "execution_count": 1,
   "metadata": {},
   "outputs": [
    {
     "name": "stderr",
     "output_type": "stream",
     "text": [
      "/home/vicentamen/miniconda3/envs/py38/lib/python3.8/site-packages/sentence_transformers/cross_encoder/CrossEncoder.py:13: TqdmWarning: IProgress not found. Please update jupyter and ipywidgets. See https://ipywidgets.readthedocs.io/en/stable/user_install.html\n",
      "  from tqdm.autonotebook import tqdm, trange\n",
      "2024-10-14 09:06:37.910808: I tensorflow/core/util/port.cc:110] oneDNN custom operations are on. You may see slightly different numerical results due to floating-point round-off errors from different computation orders. To turn them off, set the environment variable `TF_ENABLE_ONEDNN_OPTS=0`.\n",
      "2024-10-14 09:06:38.035476: I tensorflow/tsl/cuda/cudart_stub.cc:28] Could not find cuda drivers on your machine, GPU will not be used.\n",
      "2024-10-14 09:06:38.650833: I tensorflow/core/platform/cpu_feature_guard.cc:182] This TensorFlow binary is optimized to use available CPU instructions in performance-critical operations.\n",
      "To enable the following instructions: AVX2 AVX_VNNI FMA, in other operations, rebuild TensorFlow with the appropriate compiler flags.\n",
      "2024-10-14 09:06:40.394288: W tensorflow/compiler/tf2tensorrt/utils/py_utils.cc:38] TF-TRT Warning: Could not find TensorRT\n"
     ]
    },
    {
     "name": "stdout",
     "output_type": "stream",
     "text": [
      "Task prompts: (1, 2)\n",
      "Nodes: (2076, 7)\n",
      "Task prompts embedings: (1, 768)\n",
      "Nodes texts embedings: (2076, 768)\n"
     ]
    },
    {
     "name": "stderr",
     "output_type": "stream",
     "text": [
      "/home/vicentamen/miniconda3/envs/py38/lib/python3.8/site-packages/transformers/tokenization_utils_base.py:1617: FutureWarning: `clean_up_tokenization_spaces` was not set. It will be set to `True` by default. This behavior will be deprecated in transformers v4.45, and will be then set to `False` by default. For more details check this issue: https://github.com/huggingface/transformers/issues/31884\n",
      "  warnings.warn(\n"
     ]
    }
   ],
   "source": [
    "import numpy as np\n",
    "import pandas as pd\n",
    "from sentence_transformers import SentenceTransformer\n",
    "\n",
    "# Load dataset\n",
    "task_prompts_df = pd.read_csv('dataset/task_prompts.csv')\n",
    "nodes_df = pd.read_csv('dataset/nodes.csv')\n",
    "\n",
    "print(\"Task prompts:\", task_prompts_df.shape)\n",
    "print(\"Nodes:\", nodes_df.shape)\n",
    "\n",
    "# Load embedings\n",
    "task_prompt_embedings = np.load('dataset/task_prompts_embeddings.npy')\n",
    "nodes_texts_embedings = np.load('dataset/nodes_texts_embeddings.npy')\n",
    "\n",
    "print(\"Task prompts embedings:\", task_prompt_embedings.shape)\n",
    "print(\"Nodes texts embedings:\", nodes_texts_embedings.shape)\n",
    "\n",
    "# Prepare model\n",
    "model = SentenceTransformer('multi-qa-mpnet-base-dot-v1')"
   ]
  },
  {
   "cell_type": "markdown",
   "metadata": {},
   "source": [
    "### EVALUATE TASKS"
   ]
  },
  {
   "cell_type": "code",
   "execution_count": 2,
   "metadata": {},
   "outputs": [],
   "source": [
    "# Get the nodes indexes for a given task_id\n",
    "def get_nodes_indexes(task_id, nodes_df):\n",
    "    return nodes_df[nodes_df['task_id'] == task_id].index\n",
    "\n",
    "\n",
    "def get_nodes_embeddigs(nodes_indexes, nodes_texts_embedings):\n",
    "    return nodes_texts_embedings[nodes_indexes]\n",
    "\n",
    "\n",
    "def get_task_embedings(task_index, task_prompt_embedings):\n",
    "    # Get the task prompt embedings\n",
    "    task_embedints = task_prompt_embedings[task_index]    \n",
    "    return task_embedints\n",
    "\n",
    "def get_top_nodes(similarities, k=10):\n",
    "    import tensorflow as tf\n",
    "    # Get top k nodes\n",
    "    top_values, indices = tf.math.top_k(similarities, k)\n",
    "    return top_values.numpy().flatten(), indices.numpy().flatten()\n",
    "\n",
    "# Proportion  of positive candidates in the relevant nodes\n",
    "def calculate_precision(relevant_nodes):\n",
    "    # Check how many of the selected relevant nodes are set as pos_candidates\n",
    "    total = len(relevant_nodes)\n",
    "    # Count the number of positive candidates to the k-th element\n",
    "    pos_candidates_count = len(relevant_nodes[relevant_nodes['pos_candidate'] == 1])\n",
    "    pos_candidates_k1_count = len(relevant_nodes[relevant_nodes['pos_candidate_k1'] == 1])\n",
    "    pos_candidates_k3_count = len(relevant_nodes[relevant_nodes['pos_candidate_k3'] == 1])\n",
    "    pos_candidates_k5_count = len(relevant_nodes[relevant_nodes['pos_candidate_k5'] == 1])\n",
    "    \n",
    "    return {'k0 precision: ': pos_candidates_count / total, \n",
    "            'k1 precision: ': pos_candidates_k1_count / total, \n",
    "            'k3 precision: ': pos_candidates_k3_count / total, \n",
    "            'k5 precision: ': pos_candidates_k5_count / total}\n",
    "\n",
    "def evaluate_task(task, nodes_df, task_prompts_df, task_prompt_embedings, nodes_texts_embedings, model, k=10):\n",
    "    \"\"\"\n",
    "    This function evaluates a task by calculating the precision of the top 10 nodes for all the actions recorded for the task.\n",
    "    If we wanted to evaluate the model for a single action, we could use the function evaluate_action.\n",
    "    \"\"\"\n",
    "    task_id = task['task_id']\n",
    "    task_index = task_prompts_df[task_prompts_df['task_id'] == task_id].index[0]\n",
    "    k0_candidates_count = len(nodes_df[(nodes_df['task_id'] == task_id) & (nodes_df['pos_candidate'] == 1)])\n",
    "    k1_candidates_count = len(nodes_df[(nodes_df['task_id'] == task_id) & (nodes_df['pos_candidate_k1'] == 1)])\n",
    "    k3_candidates_count = len(nodes_df[(nodes_df['task_id'] == task_id) & (nodes_df['pos_candidate_k3'] == 1)])\n",
    "    k5_candidates_count = len(nodes_df[(nodes_df['task_id'] == task_id) & (nodes_df['pos_candidate_k5'] == 1)])\n",
    "    \n",
    "    # The specific task prompt embeddings\n",
    "    prompt_embedings = get_task_embedings(task_index, task_prompt_embedings)\n",
    "    \n",
    "    # Get the nodes embeddings\n",
    "    nodes_indexes = get_nodes_indexes(task_id, nodes_df)\n",
    "    nodes_embedings = get_nodes_embeddigs(nodes_indexes, nodes_texts_embedings)\n",
    "    \n",
    "    # Calculate the similarity\n",
    "    similarities = model.similarity(prompt_embedings, nodes_embedings)\n",
    "    \n",
    "    # Get the top 10 nodes\n",
    "    top_values, top_nodes_indices = get_top_nodes(similarities, k)\n",
    "    \n",
    "    # Convert nodes_indexes to a numpy array and use it for indexing\n",
    "    nodes_indexes_array = np.array(nodes_indexes)\n",
    "    top_nodes_indexes = nodes_indexes_array[top_nodes_indices]\n",
    "    \n",
    "    # Use integer indexing to get the correct nodes\n",
    "    top_nodes = nodes_df.loc[top_nodes_indexes]\n",
    "    \n",
    "    # Calculate the task precision\n",
    "    precision = calculate_precision(top_nodes)\n",
    "    \n",
    "    return top_nodes, precision"
   ]
  },
  {
   "cell_type": "code",
   "execution_count": 3,
   "metadata": {},
   "outputs": [
    {
     "name": "stdout",
     "output_type": "stream",
     "text": [
      "Task: task_id                 7bda9645-0b5f-470a-8dd7-6af0bff4da68\n",
      "prompt     Check for pickup restaurant available in Bosto...\n",
      "Name: 0, dtype: object\n",
      "Task precision:  {'k0 precision: ': 0.0, 'k1 precision: ': 0.01, 'k3 precision: ': 0.07, 'k5 precision: ': 0.18}\n"
     ]
    },
    {
     "name": "stderr",
     "output_type": "stream",
     "text": [
      "2024-10-14 09:06:50.202574: E tensorflow/compiler/xla/stream_executor/cuda/cuda_driver.cc:268] failed call to cuInit: CUDA_ERROR_NO_DEVICE: no CUDA-capable device is detected\n"
     ]
    }
   ],
   "source": [
    "# Test task evaluation\n",
    "test_task = task_prompts_df.iloc[0]\n",
    "print(\"Task:\", test_task)\n",
    "\n",
    "top_nodes, results = evaluate_task(test_task, nodes_df, task_prompts_df, task_prompt_embedings, nodes_texts_embedings, model, 100)\n",
    "print(\"Task precision: \", results)"
   ]
  },
  {
   "cell_type": "code",
   "execution_count": 4,
   "metadata": {},
   "outputs": [
    {
     "name": "stdout",
     "output_type": "stream",
     "text": [
      "100\n"
     ]
    }
   ],
   "source": [
    "print(len(top_nodes))"
   ]
  },
  {
   "cell_type": "code",
   "execution_count": 6,
   "metadata": {},
   "outputs": [
    {
     "name": "stderr",
     "output_type": "stream",
     "text": [
      "100%|██████████| 1/1 [00:00<00:00, 95.07it/s]"
     ]
    },
    {
     "name": "stdout",
     "output_type": "stream",
     "text": [
      "Tasks evaluated:  1\n"
     ]
    },
    {
     "name": "stderr",
     "output_type": "stream",
     "text": [
      "\n"
     ]
    }
   ],
   "source": [
    "import pandas as pd\n",
    "from tqdm import tqdm\n",
    "\n",
    "# Evaluate all tasks\n",
    "results = []\n",
    "total_tasks = len(task_prompts_df)\n",
    "for index, row in tqdm(task_prompts_df.iterrows(), total=total_tasks):\n",
    "    top_nodes, task_precision = evaluate_task(row, nodes_df, task_prompts_df, task_prompt_embedings, nodes_texts_embedings, model)\n",
    "    results.append({'task_id': row['task_id'], 'precision': task_precision})\n",
    "    \n",
    "print('Tasks evaluated: ', len(results))"
   ]
  },
  {
   "cell_type": "markdown",
   "metadata": {},
   "source": [
    "### RESULTS EVALUATION"
   ]
  },
  {
   "cell_type": "code",
   "execution_count": 7,
   "metadata": {},
   "outputs": [
    {
     "name": "stdout",
     "output_type": "stream",
     "text": [
      "[{'task_id': '7bda9645-0b5f-470a-8dd7-6af0bff4da68', 'precision': {'k0 precision: ': 0.0, 'k1 precision: ': 0.1, 'k3 precision: ': 0.2, 'k5 precision: ': 0.6}}]\n"
     ]
    }
   ],
   "source": [
    "print(results)"
   ]
  },
  {
   "cell_type": "code",
   "execution_count": 9,
   "metadata": {},
   "outputs": [
    {
     "data": {
      "image/png": "[encoded data removed]",
      "text/plain": [
       "<Figure size 640x480 with 1 Axes>"
      ]
     },
     "metadata": {},
     "output_type": "display_data"
    }
   ],
   "source": []
  }
 ],
 "metadata": {
  "kernelspec": {
   "display_name": "py38",
   "language": "python",
   "name": "python3"
  },
  "language_info": {
   "codemirror_mode": {
    "name": "ipython",
    "version": 3
   },
   "file_extension": ".py",
   "mimetype": "text/x-python",
   "name": "python",
   "nbconvert_exporter": "python",
   "pygments_lexer": "ipython3",
   "version": "3.8.18"
  }
 },
 "nbformat": 4,
 "nbformat_minor": 2
}
