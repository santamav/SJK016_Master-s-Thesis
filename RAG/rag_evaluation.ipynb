{
 "cells": [
  {
   "cell_type": "markdown",
   "metadata": {},
   "source": [
    "# Retrieval Augmented Generation evaluation"
   ]
  },
  {
   "cell_type": "markdown",
   "metadata": {},
   "source": [
    "### LOADING"
   ]
  },
  {
   "cell_type": "markdown",
   "metadata": {},
   "source": [
    "#### Load Embedings"
   ]
  },
  {
   "cell_type": "code",
   "execution_count": 258,
   "metadata": {},
   "outputs": [
    {
     "name": "stdout",
     "output_type": "stream",
     "text": [
      "Task prompts: (30, 2)\n",
      "Nodes: (161140, 8)\n",
      "Task prompts embedings: (30, 768)\n",
      "Nodes texts embedings: (161140, 768)\n"
     ]
    },
    {
     "name": "stderr",
     "output_type": "stream",
     "text": [
      "/home/vicentamen/miniconda3/envs/py38/lib/python3.8/site-packages/transformers/tokenization_utils_base.py:1617: FutureWarning: `clean_up_tokenization_spaces` was not set. It will be set to `True` by default. This behavior will be deprecated in transformers v4.45, and will be then set to `False` by default. For more details check this issue: https://github.com/huggingface/transformers/issues/31884\n",
      "  warnings.warn(\n"
     ]
    }
   ],
   "source": [
    "import numpy as np\n",
    "import pandas as pd\n",
    "from sentence_transformers import SentenceTransformer, CrossEncoder, util\n",
    "\n",
    "# Load dataset\n",
    "task_prompts_df = pd.read_csv('dataset/task_prompts.csv')\n",
    "nodes_df = pd.read_csv('dataset/nodes.csv')\n",
    "\n",
    "print(\"Task prompts:\", task_prompts_df.shape)\n",
    "print(\"Nodes:\", nodes_df.shape)\n",
    "\n",
    "# Load embedings\n",
    "task_prompt_embedings = np.load('dataset/task_prompts_embeddings.npy')\n",
    "nodes_texts_embedings = np.load('dataset/nodes_texts_embeddings.npy')\n",
    "\n",
    "print(\"Task prompts embedings:\", task_prompt_embedings.shape)\n",
    "print(\"Nodes texts embedings:\", nodes_texts_embedings.shape)\n",
    "\n",
    "# Prepare model\n",
    "model = SentenceTransformer('multi-qa-mpnet-base-dot-v1')\n",
    "reranker = CrossEncoder('cross-encoder/ms-marco-MiniLM-L-6-v2')"
   ]
  },
  {
   "cell_type": "markdown",
   "metadata": {},
   "source": [
    "### EVALUATE TASKS"
   ]
  },
  {
   "cell_type": "code",
   "execution_count": 259,
   "metadata": {},
   "outputs": [],
   "source": [
    "# Get the nodes indexes for a given task_id\n",
    "def get_nodes_indexes(action_id, nodes_df):\n",
    "    return nodes_df[nodes_df['action_id'] == action_id].index\n",
    "\n",
    "\n",
    "def get_nodes_embeddigs(nodes_indexes, nodes_texts_embedings):\n",
    "    return nodes_texts_embedings[nodes_indexes]\n",
    "\n",
    "\n",
    "def get_task_embedings(task_index, task_prompt_embedings):\n",
    "    # Get the task prompt embedings\n",
    "    task_embedints = task_prompt_embedings[task_index]    \n",
    "    return task_embedints\n",
    "\n",
    "def get_top_nodes(similarities, k=10):\n",
    "    import tensorflow as tf\n",
    "    # Get top k nodes, but ensure k is not larger than the number of similarities\n",
    "    k = min(k, tf.shape(similarities)[0])\n",
    "    top_values, indices = tf.math.top_k(similarities, k)\n",
    "    return top_values.numpy().flatten(), indices.numpy().flatten()\n",
    "\n",
    "def get_top_nodes_with_rerank(similarities, k=10):\n",
    "    pass\n",
    "\n",
    "\n",
    "def calculate_pos_candidates_count(relevant_nodes):\n",
    "    pos_candidates_count = sum(1 for node in relevant_nodes if node['pos_candidate'] == 1)\n",
    "    pos_candidates_k1_count = sum(1 for node in relevant_nodes if node['pos_candidate_k1'] == 1)\n",
    "    pos_candidates_k3_count = sum(1 for node in relevant_nodes if node['pos_candidate_k3'] == 1)\n",
    "    pos_candidates_k5_count = sum(1 for node in relevant_nodes if node['pos_candidate_k5'] == 1)\n",
    "    \n",
    "    return {\n",
    "        'n0 counts': pos_candidates_count, \n",
    "        'n1 counts': pos_candidates_k1_count, \n",
    "        'n3 counts': pos_candidates_k3_count, \n",
    "        'n5 counts': pos_candidates_k5_count\n",
    "    }\n",
    "    \n",
    "def calculate_pos_candidates_count_reranker(relevant_nodes):\n",
    "    pos_candidates_count = sum(1 for node, _, _ in relevant_nodes if node['pos_candidate'] == 1)\n",
    "    pos_candidates_n1_count = sum(1 for node, _, _ in relevant_nodes if node['pos_candidate_k1'] == 1)\n",
    "    pos_candidates_n3_count = sum(1 for node, _, _ in relevant_nodes if node['pos_candidate_k3'] == 1)\n",
    "    pos_candidates_n5_count = sum(1 for node, _, _ in relevant_nodes if node['pos_candidate_k5'] == 1)\n",
    "    \n",
    "    return {\n",
    "        'n0 counts': pos_candidates_count, \n",
    "        'n1 counts': pos_candidates_n1_count, \n",
    "        'n3 counts': pos_candidates_n3_count, \n",
    "        'n5 counts': pos_candidates_n5_count\n",
    "    }\n",
    "    \n",
    "def calculate_precision(pos_candidates_count):\n",
    "    return {'n0 precision': 1 if pos_candidates_count['n0 counts'] > 0 else 0, \n",
    "            'n1 precision': 1 if pos_candidates_count['n1 counts'] > 0 else 0, \n",
    "            'n3 precision': 1 if pos_candidates_count['n3 counts'] > 0 else 0, \n",
    "            'n5 precision': 1 if pos_candidates_count['n5 counts'] > 0 else 0,}\n",
    "    \n",
    "\n",
    "def evaluate_action(action_df, nodes_df, task_prompt, task_index, task_prompt_embedings, nodes_texts_embedings, model, cross_encoder, k=10):\n",
    "    action_id = action_df['action_id'].iloc[0]\n",
    "    results = {}\n",
    "\n",
    "    # The specific task prompt embeddings\n",
    "    prompt_embedings = get_task_embedings(task_index, task_prompt_embedings)\n",
    "    \n",
    "    # Get the nodes embeddings\n",
    "    nodes_indexes = get_nodes_indexes(action_id, nodes_df)\n",
    "    nodes_embedings = get_nodes_embeddigs(nodes_indexes, nodes_texts_embedings)\n",
    "    \n",
    "    # Perform semantic search\n",
    "    hits = util.semantic_search(prompt_embedings, nodes_embedings, top_k=100)\n",
    "    hits = hits[0]\n",
    "    \n",
    "    # Extract the top k nodes and their scores\n",
    "    top_nodes = [(nodes_df.loc[hit['corpus_id']], hit['score']) for hit in hits]\n",
    "    \n",
    "    # Add error checking for reranker\n",
    "    if not isinstance(reranker, CrossEncoder):\n",
    "        print(f\"Error: reranker is not a CrossEncoder object. It is a {type(reranker)}.\")\n",
    "        # You might want to return early or handle this error appropriately\n",
    "        return None\n",
    "    \n",
    "    # Perform reranking\n",
    "    try:\n",
    "        reranker_input = [(task_prompt, node_text.iloc[0]) for node_text, _ in top_nodes]\n",
    "        reranker_scores = cross_encoder.predict(reranker_input)\n",
    "    except AttributeError as e:\n",
    "        print(f\"Error when calling reranker.predict: {e}\")\n",
    "        # Handle the error appropriately, maybe by skipping reranking\n",
    "        reranker_scores = [0] * len(top_nodes)\n",
    "    \n",
    "    # Perform reranking\n",
    "    #reranker_scores = reranker.predict([(task_prompt, node_text.iloc[0]) for node_text, _ in top_nodes])\n",
    "    \n",
    "    for idx in range(len(hits)):\n",
    "        hits[idx]['cross_score'] = reranker_scores[idx]\n",
    "        \n",
    "    \n",
    "    # Store the top k nodes and their scores\n",
    "    sorted_nodes_values = sorted(hits, key=lambda x: x['score'], reverse=True)[:k]\n",
    "    sorted_nodes_reranker_values = sorted(hits, key=lambda x: x['cross_score'], reverse=True)[:k]\n",
    "    # Get the nodes from the values\n",
    "    sorted_nodes = [nodes_df.loc[node['corpus_id']] for node in sorted_nodes_values]\n",
    "    sorted_nodes_reranker = [nodes_df.loc[node['corpus_id']] for node in sorted_nodes_reranker_values]\n",
    "    \n",
    "    # Calculate the task precision\n",
    "    novel_counts = calculate_pos_candidates_count(sorted_nodes)\n",
    "    novel_precision = calculate_precision(novel_counts)\n",
    "    \n",
    "    # Compute reranker precision\n",
    "    reranker_counts = calculate_pos_candidates_count(sorted_nodes_reranker)\n",
    "    reranker_precision = calculate_precision(reranker_counts)\n",
    "    \n",
    "    results = {'novel': novel_precision, 'reranker': reranker_precision, 'novel_nodes': sorted_nodes, 'reranker_nodes': sorted_nodes_reranker}\n",
    "    \n",
    "    return results\n",
    "\n",
    "def evaluate_task(task, nodes_df, task_prompts_df, task_prompt_embedings, nodes_texts_embedings, model, cross_encoder, k=10):\n",
    "    \"\"\"\n",
    "    This function evaluates a task by calculating the precision of the top 10 nodes for all the actions recorded for the task.\n",
    "    If we wanted to evaluate the model for a single action, we could use the function evaluate_action.\n",
    "    \"\"\"\n",
    "    task_id = task['task_id']\n",
    "    task_index = task_prompts_df[task_prompts_df['task_id'] == task_id].index[0]\n",
    "    results = {}\n",
    "    \n",
    "    # Get all the action ids for the task\n",
    "    actions_ids = nodes_df[nodes_df['task_id'] == task_id]['action_id'].unique()\n",
    "    for action in actions_ids:\n",
    "        action_df = nodes_df[nodes_df['action_id'] == action]\n",
    "        prompt = task_prompts_df[task_prompts_df['task_id'] == task_id]['prompt'].iloc[0]\n",
    "\n",
    "        task_results = evaluate_action(action_df, nodes_df, prompt, task_index, task_prompt_embedings, nodes_texts_embedings, model, cross_encoder, k)\n",
    "        \n",
    "        results[action] = task_results\n",
    "    return results"
   ]
  },
  {
   "cell_type": "code",
   "execution_count": 260,
   "metadata": {},
   "outputs": [
    {
     "name": "stdout",
     "output_type": "stream",
     "text": [
      "Task: task_id                 7bda9645-0b5f-470a-8dd7-6af0bff4da68\n",
      "prompt     Check for pickup restaurant available in Bosto...\n",
      "Name: 0, dtype: object\n",
      "Running evaluation for k=5\n",
      "Running evaluation for k=10\n",
      "Running evaluation for k=30\n"
     ]
    }
   ],
   "source": [
    "# Test task evaluation\n",
    "k_values = [5, 10, 30]\n",
    "test_task = task_prompts_df.iloc[0]\n",
    "print(\"Task:\", test_task)\n",
    "k_results = []\n",
    "for i, k in enumerate(k_values):\n",
    "    print(f\"Running evaluation for k={k}\")\n",
    "    results = evaluate_task(test_task, nodes_df, task_prompts_df, task_prompt_embedings, nodes_texts_embedings, model, reranker, k)\n",
    "    k_results.append(results)\n"
   ]
  },
  {
   "cell_type": "code",
   "execution_count": 261,
   "metadata": {},
   "outputs": [
    {
     "name": "stderr",
     "output_type": "stream",
     "text": [
      "100%|██████████| 30/30 [10:06<00:00, 20.20s/it]"
     ]
    },
    {
     "name": "stdout",
     "output_type": "stream",
     "text": [
      "Tasks evaluated:  30\n"
     ]
    },
    {
     "name": "stderr",
     "output_type": "stream",
     "text": [
      "\n"
     ]
    }
   ],
   "source": [
    "import pandas as pd\n",
    "from tqdm import tqdm\n",
    "\n",
    "# Evaluate all tasks\n",
    "k_values = [5, 10, 30]\n",
    "results = []\n",
    "total_tasks = len(task_prompts_df)\n",
    "for index, row in tqdm(task_prompts_df.iterrows(), total=total_tasks):\n",
    "    task_results = {'k5': [], 'k10': [], 'k30': []}\n",
    "    for k in k_values:\n",
    "        task_results_k = evaluate_task(row, nodes_df, task_prompts_df, task_prompt_embedings, nodes_texts_embedings, model, reranker, k)\n",
    "        task_results['k' + str(k)] = task_results_k\n",
    "    results.append(task_results)\n",
    "    \n",
    "print('Tasks evaluated: ', len(results))"
   ]
  },
  {
   "cell_type": "markdown",
   "metadata": {},
   "source": [
    "### RESULTS EVALUATION"
   ]
  },
  {
   "cell_type": "code",
   "execution_count": 262,
   "metadata": {},
   "outputs": [
    {
     "name": "stdout",
     "output_type": "stream",
     "text": [
      "results naive rag\n",
      "k5 precision: 0.026755852842809364\n",
      "k10 precision: 0.056856187290969896\n",
      "k30 precision: 0.2408026755852843\n"
     ]
    }
   ],
   "source": [
    "k5_counts = 0\n",
    "k10_counts = 0\n",
    "k30_counts = 0\n",
    "\n",
    "total = 0\n",
    "\n",
    "for task in results:\n",
    "    for action in task['k30']:\n",
    "        total += 1\n",
    "        k5_counts += task['k5'][action]['novel']['n0 precision']\n",
    "        k10_counts += task['k10'][action]['novel']['n0 precision']\n",
    "        k30_counts += task['k30'][action]['novel']['n0 precision']\n",
    "        \n",
    "print('results naive rag')\n",
    "print('k5 precision:', k5_counts / total)\n",
    "print('k10 precision:', k10_counts / total)\n",
    "print('k30 precision:', k30_counts / total)"
   ]
  },
  {
   "cell_type": "code",
   "execution_count": 263,
   "metadata": {},
   "outputs": [
    {
     "name": "stdout",
     "output_type": "stream",
     "text": [
      "results reranker\n",
      "k5 precision: 0.026755852842809364\n",
      "k10 precision: 0.06020066889632107\n",
      "k30 precision: 0.23745819397993312\n"
     ]
    }
   ],
   "source": [
    "k5_counts = 0\n",
    "k10_counts = 0\n",
    "k30_counts = 0\n",
    "\n",
    "total = 0\n",
    "\n",
    "for task in results:\n",
    "    for action in task['k30']:\n",
    "        total += 1\n",
    "        k5_counts += task['k5'][action]['reranker']['n0 precision']\n",
    "        k10_counts += task['k10'][action]['reranker']['n0 precision']\n",
    "        k30_counts += task['k30'][action]['reranker']['n0 precision']\n",
    "\n",
    "print('results reranker')\n",
    "print('k5 precision:', k5_counts / total)\n",
    "print('k10 precision:', k10_counts / total)\n",
    "print('k30 precision:', k30_counts / total)"
   ]
  },
  {
   "cell_type": "code",
   "execution_count": 196,
   "metadata": {},
   "outputs": [
    {
     "name": "stdout",
     "output_type": "stream",
     "text": [
      "results naive rag\n",
      "k5 precision: 0.043478260869565216\n",
      "k10 precision: 0.07692307692307693\n",
      "k30 precision: 0.28762541806020064\n"
     ]
    }
   ],
   "source": [
    "k5_counts = 0\n",
    "k10_counts = 0\n",
    "k30_counts = 0\n",
    "\n",
    "total = 0\n",
    "\n",
    "for task in results:\n",
    "    for action in task['k30']:\n",
    "        total += 1\n",
    "        k5_counts += task['k5'][action]['novel']['n1 precision']\n",
    "        k10_counts += task['k10'][action]['novel']['n1 precision']\n",
    "        k30_counts += task['k30'][action]['novel']['n1 precision']\n",
    "\n",
    "print('results naive rag')\n",
    "print('k5 precision:', k5_counts / total)\n",
    "print('k10 precision:', k10_counts / total)\n",
    "print('k30 precision:', k30_counts / total)"
   ]
  },
  {
   "cell_type": "code",
   "execution_count": 199,
   "metadata": {},
   "outputs": [
    {
     "name": "stdout",
     "output_type": "stream",
     "text": [
      "results naive rag\n",
      "k5 precision: 0.05016722408026756\n",
      "k10 precision: 0.08695652173913043\n",
      "k30 precision: 0.2909698996655518\n"
     ]
    }
   ],
   "source": [
    "k5_counts = 0\n",
    "k10_counts = 0\n",
    "k30_counts = 0\n",
    "\n",
    "total = 0\n",
    "\n",
    "for task in results:\n",
    "    for action in task['k30']:\n",
    "        total += 1\n",
    "        k5_counts += task['k5'][action]['reranker']['n1 precision']\n",
    "        k10_counts += task['k10'][action]['reranker']['n1 precision']\n",
    "        k30_counts += task['k30'][action]['reranker']['n1 precision']\n",
    "\n",
    "print('results naive rag')\n",
    "print('k5 precision:', k5_counts / total)\n",
    "print('k10 precision:', k10_counts / total)\n",
    "print('k30 precision:', k30_counts / total)"
   ]
  },
  {
   "cell_type": "code",
   "execution_count": 197,
   "metadata": {},
   "outputs": [
    {
     "name": "stdout",
     "output_type": "stream",
     "text": [
      "results naive rag\n",
      "k5 precision: 0.14715719063545152\n",
      "k10 precision: 0.34448160535117056\n",
      "k30 precision: 0.6321070234113713\n"
     ]
    }
   ],
   "source": [
    "k5_counts = 0\n",
    "k10_counts = 0\n",
    "k30_counts = 0\n",
    "\n",
    "total = 0\n",
    "\n",
    "for task in results:\n",
    "    for action in task['k30']:\n",
    "        total += 1\n",
    "        k5_counts += task['k5'][action]['novel']['n3 precision']\n",
    "        k10_counts += task['k10'][action]['novel']['n3 precision']\n",
    "        k30_counts += task['k30'][action]['novel']['n3 precision']\n",
    "\n",
    "print('results naive rag')\n",
    "print('k5 precision:', k5_counts / total)\n",
    "print('k10 precision:', k10_counts / total)\n",
    "print('k30 precision:', k30_counts / total)"
   ]
  },
  {
   "cell_type": "code",
   "execution_count": 200,
   "metadata": {},
   "outputs": [
    {
     "name": "stdout",
     "output_type": "stream",
     "text": [
      "results reranker rag\n",
      "k5 precision: 0.14715719063545152\n",
      "k10 precision: 0.34448160535117056\n",
      "k30 precision: 0.6321070234113713\n"
     ]
    }
   ],
   "source": [
    "k5_counts = 0\n",
    "k10_counts = 0\n",
    "k30_counts = 0\n",
    "\n",
    "total = 0\n",
    "\n",
    "for task in results:\n",
    "    for action in task['k30']:\n",
    "        total += 1\n",
    "        k5_counts += task['k5'][action]['reranker']['n3 precision']\n",
    "        k10_counts += task['k10'][action]['reranker']['n3 precision']\n",
    "        k30_counts += task['k30'][action]['reranker']['n3 precision']\n",
    "\n",
    "print('results reranker rag')\n",
    "print('k5 precision:', k5_counts / total)\n",
    "print('k10 precision:', k10_counts / total)\n",
    "print('k30 precision:', k30_counts / total)"
   ]
  },
  {
   "cell_type": "code",
   "execution_count": 191,
   "metadata": {},
   "outputs": [
    {
     "name": "stdout",
     "output_type": "stream",
     "text": [
      "Total: 299\n",
      "k5 counts: 100\n",
      "k10 counts: 154\n",
      "k30 counts: 250\n",
      "k5 precision: 0.33444816053511706\n",
      "k10 precision: 0.5150501672240803\n",
      "k30 precision: 0.8361204013377926\n"
     ]
    }
   ],
   "source": [
    "k5_counts = 0\n",
    "k10_counts = 0\n",
    "k30_counts = 0\n",
    "\n",
    "total = 0\n",
    "\n",
    "for task in results:\n",
    "    for action in task['k30']:\n",
    "        total += 1\n",
    "        k5_counts += task['k5'][action]['novel']['n5 precision']\n",
    "        k10_counts += task['k10'][action]['novel']['n5 precision']\n",
    "        k30_counts += task['k30'][action]['novel']['n5 precision']\n",
    "\n",
    "print('Total:', total)\n",
    "print('k5 counts:', k5_counts)\n",
    "print('k10 counts:', k10_counts)\n",
    "print('k30 counts:', k30_counts)\n",
    "\n",
    "print('k5 precision:', k5_counts / total)\n",
    "print('k10 precision:', k10_counts / total)\n",
    "print('k30 precision:', k30_counts / total)"
   ]
  },
  {
   "cell_type": "code",
   "execution_count": 250,
   "metadata": {},
   "outputs": [
    {
     "name": "stdout",
     "output_type": "stream",
     "text": [
      "Total: 299\n",
      "k5 counts: 106\n",
      "k10 counts: 160\n",
      "k30 counts: 252\n",
      "k5 precision: 0.35451505016722407\n",
      "k10 precision: 0.5351170568561873\n",
      "k30 precision: 0.842809364548495\n"
     ]
    }
   ],
   "source": [
    "k5_counts = 0\n",
    "k10_counts = 0\n",
    "k30_counts = 0\n",
    "\n",
    "total = 0\n",
    "\n",
    "for task in results:\n",
    "    for action in task['k30']:\n",
    "        total += 1\n",
    "        k5_counts += task['k5'][action]['reranker']['n5 precision']\n",
    "        k10_counts += task['k10'][action]['reranker']['n5 precision']\n",
    "        k30_counts += task['k30'][action]['reranker']['n5 precision']\n",
    "\n",
    "print('Total:', total)\n",
    "print('k5 counts:', k5_counts)\n",
    "print('k10 counts:', k10_counts)\n",
    "print('k30 counts:', k30_counts)\n",
    "\n",
    "print('k5 precision:', k5_counts / total)\n",
    "print('k10 precision:', k10_counts / total)\n",
    "print('k30 precision:', k30_counts / total)"
   ]
  },
  {
   "cell_type": "code",
   "execution_count": 204,
   "metadata": {},
   "outputs": [
    {
     "data": {
      "image/png": "[encoded data removed]",
      "text/plain": [
       "<Figure size 1000x600 with 1 Axes>"
      ]
     },
     "metadata": {},
     "output_type": "display_data"
    }
   ],
   "source": [
    "import matplotlib.pyplot as plt\n",
    "\n",
    "# Data for Naive RAG\n",
    "k_values = [5, 10, 30]\n",
    "naive_rag_precision_n0 = [0.026755852842809364, 0.056856187290969896, 0.2408026755852843]\n",
    "naive_rag_precision_n1 = [0.043478260869565216, 0.07692307692307693, 0.28762541806020064]\n",
    "naive_rag_precision_n3 = [0.14715719063545152, 0.34448160535117056, 0.6321070234113713]\n",
    "\n",
    "# Plot\n",
    "plt.figure(figsize=(10, 6))\n",
    "plt.plot(k_values, naive_rag_precision_n0, marker='o', linestyle='-', color='r', label='n0')\n",
    "plt.plot(k_values, naive_rag_precision_n1, marker='o', linestyle='-', color='g', label='n1')\n",
    "plt.plot(k_values, naive_rag_precision_n3, marker='o', linestyle='-', color='b', label='n3')\n",
    "\n",
    "# Labels and title\n",
    "plt.xlabel('k')\n",
    "plt.ylabel('Precision')\n",
    "plt.title('Naive RAG Precision Across Different k Values')\n",
    "plt.xticks(k_values)\n",
    "plt.legend()\n",
    "plt.grid(True)\n",
    "\n",
    "# Show plot\n",
    "plt.show()\n"
   ]
  },
  {
   "cell_type": "code",
   "execution_count": 243,
   "metadata": {},
   "outputs": [
    {
     "name": "stdout",
     "output_type": "stream",
     "text": [
      "Naive RAG\n",
      "k5 n0 true positives: 1\n",
      "k5 n1 true positives: 1\n",
      "k5 n3 true positives: 12\n",
      "Reranker\n",
      "k5 n0 true positives: 1\n",
      "k5 n1 true positives: 1\n",
      "k5 n3 true positives: 13\n"
     ]
    }
   ],
   "source": [
    "# Comparing the top 1 node for the naive and the reranker\n",
    "# for k = 5\n",
    "\n",
    "#From the k5 and n0 nodes of the naive rag get the top 1 nodes and see if they are true positives\n",
    "k5_n0_nodes = []\n",
    "k5_n1_nodes = []\n",
    "k5_n3_nodes = []\n",
    "\n",
    "k5_n0_reranker_nodes = []\n",
    "k5_n1_reranker_nodes = []\n",
    "k5_n3_reranker_nodes = []\n",
    "\n",
    "for task in results:\n",
    "    for action in task['k30']:\n",
    "        k5_n0_nodes.append(task['k5'][action]['novel_nodes'][0])\n",
    "        k5_n1_nodes.append(task['k5'][action]['novel_nodes'][0])\n",
    "        k5_n3_nodes.append(task['k5'][action]['novel_nodes'][0])\n",
    "        \n",
    "        k5_n0_reranker_nodes.append(task['k5'][action]['reranker_nodes'][0])\n",
    "        k5_n1_reranker_nodes.append(task['k5'][action]['reranker_nodes'][0])\n",
    "        k5_n3_reranker_nodes.append(task['k5'][action]['reranker_nodes'][0])\n",
    "        \n",
    "# Calculate the number of true positives\n",
    "k5_n0_true_positives = sum(1 for node in k5_n0_nodes if node['pos_candidate'] == 1)\n",
    "k5_n1_true_positives = sum(1 for node in k5_n1_nodes if node['pos_candidate_k1'] == 1)\n",
    "k5_n3_true_positives = sum(1 for node in k5_n3_nodes if node['pos_candidate_k3'] == 1)\n",
    "\n",
    "k5_n0_reranker_true_positives = sum(1 for node in k5_n0_reranker_nodes if node['pos_candidate'] == 1)\n",
    "k5_n1_reranker_true_positives = sum(1 for node in k5_n1_reranker_nodes if node['pos_candidate_k1'] == 1)\n",
    "k5_n3_reranker_true_positives = sum(1 for node in k5_n3_reranker_nodes if node['pos_candidate_k3'] == 1)\n",
    "\n",
    "print('Naive RAG')\n",
    "print('k5 n0 true positives:', k5_n0_true_positives)\n",
    "print('k5 n1 true positives:', k5_n1_true_positives)\n",
    "print('k5 n3 true positives:', k5_n3_true_positives)\n",
    "\n",
    "print('Reranker')\n",
    "print('k5 n0 true positives:', k5_n0_reranker_true_positives)\n",
    "print('k5 n1 true positives:', k5_n1_reranker_true_positives)\n",
    "print('k5 n3 true positives:', k5_n3_reranker_true_positives)\n"
   ]
  },
  {
   "cell_type": "code",
   "execution_count": 248,
   "metadata": {},
   "outputs": [
    {
     "name": "stdout",
     "output_type": "stream",
     "text": [
      "Naive RAG\n",
      "k5 n0 true positives: 8\n",
      "k5 n1 true positives: 15\n",
      "k5 n3 true positives: 58\n",
      "Reranker\n",
      "k5 n0 true positives: 8\n",
      "k5 n1 true positives: 17\n",
      "k5 n3 true positives: 57\n"
     ]
    }
   ],
   "source": [
    "# Comparing the top 1 node for the naive and the reranker\n",
    "# for k = 5\n",
    "\n",
    "#From the k5 and n0 nodes of the naive rag get the top 1 nodes and see if they are true positives\n",
    "k5_n0_nodes = []\n",
    "k5_n1_nodes = []\n",
    "k5_n3_nodes = []\n",
    "\n",
    "k5_n0_reranker_nodes = []\n",
    "k5_n1_reranker_nodes = []\n",
    "k5_n3_reranker_nodes = []\n",
    "\n",
    "for task in results:\n",
    "    for action in task['k5']:\n",
    "        for i in range(5):\n",
    "            k5_n0_nodes.append(task['k10'][action]['novel_nodes'][i])\n",
    "            k5_n1_nodes.append(task['k10'][action]['novel_nodes'][i])\n",
    "            k5_n3_nodes.append(task['k10'][action]['novel_nodes'][i])\n",
    "            \n",
    "            k5_n0_reranker_nodes.append(task['k10'][action]['reranker_nodes'][i])\n",
    "            k5_n1_reranker_nodes.append(task['k10'][action]['reranker_nodes'][i])\n",
    "            k5_n3_reranker_nodes.append(task['k10'][action]['reranker_nodes'][i])\n",
    "        \n",
    "# Calculate the number of true positives\n",
    "k5_n0_true_positives = sum(1 for node in k5_n0_nodes if node['pos_candidate'] == 1)\n",
    "k5_n1_true_positives = sum(1 for node in k5_n1_nodes if node['pos_candidate_k1'] == 1)\n",
    "k5_n3_true_positives = sum(1 for node in k5_n3_nodes if node['pos_candidate_k3'] == 1)\n",
    "\n",
    "k5_n0_reranker_true_positives = sum(1 for node in k5_n0_reranker_nodes if node['pos_candidate'] == 1)\n",
    "k5_n1_reranker_true_positives = sum(1 for node in k5_n1_reranker_nodes if node['pos_candidate_k1'] == 1)\n",
    "k5_n3_reranker_true_positives = sum(1 for node in k5_n3_reranker_nodes if node['pos_candidate_k3'] == 1)\n",
    "\n",
    "print('Naive RAG')\n",
    "print('k5 n0 true positives:', k5_n0_true_positives)\n",
    "print('k5 n1 true positives:', k5_n1_true_positives)\n",
    "print('k5 n3 true positives:', k5_n3_true_positives)\n",
    "\n",
    "print('Reranker')\n",
    "print('k5 n0 true positives:', k5_n0_reranker_true_positives)\n",
    "print('k5 n1 true positives:', k5_n1_reranker_true_positives)\n",
    "print('k5 n3 true positives:', k5_n3_reranker_true_positives)"
   ]
  },
  {
   "cell_type": "code",
   "execution_count": 321,
   "metadata": {},
   "outputs": [
    {
     "name": "stdout",
     "output_type": "stream",
     "text": [
      "Total: 1495\n",
      "Repeated: 1190\n",
      "Percentage: 0.7959866220735786\n"
     ]
    }
   ],
   "source": [
    "# Forl all the k and n compare if the nodes in the rerank and naive rag are the same\n",
    "repeated_nodes_per_task = []\n",
    "actions_total = 0\n",
    "total_repeated = 0\n",
    "for task in results:\n",
    "    repeated_nodes = []\n",
    "    for action in task['k30']:\n",
    "        actions_count = len(task['k30'][action]['novel_nodes'])\n",
    "        for i in range(5):\n",
    "            if task['k30'][action]['novel_nodes'][i]['node_id'] == task['k30'][action]['reranker_nodes'][i]['node_id']:# Same order comparation\n",
    "                #repeated_nodes.append(task['k30'][action]['novel_nodes'][i])\n",
    "                repeated_nodes_per_task.append(task['k30'][action]['novel_nodes'][i])\n",
    "        actions_total += 5\n",
    "    total_repeated += len(repeated_nodes_per_task)\n",
    "    #repeated_nodes_per_task.append(repeated_nodes)\n",
    "            \n",
    "            \n",
    "\n",
    "print('Total:', actions_total)\n",
    "print('Repeated:', len(repeated_nodes_per_task))\n",
    "print('Percentage:', len(repeated_nodes_per_task) / actions_total)\n"
   ]
  },
  {
   "cell_type": "code",
   "execution_count": 318,
   "metadata": {},
   "outputs": [
    {
     "name": "stdout",
     "output_type": "stream",
     "text": [
      "Repeated nodes count: [8, 8, 8, 8, 8, 8, 8, 8, 8, 8, 8, 8, 8, 8, 8, 8, 8, 8, 8, 8, 8, 8, 8, 8, 8, 8, 8, 8, 8, 8, 8, 8, 8, 8, 8, 8, 8, 8, 8, 8, 8, 8, 8, 8, 8, 8, 8, 8, 8, 8, 8, 8, 8, 8, 8, 8, 8, 8, 8, 8, 8, 8, 8, 8, 8, 8, 8, 8, 8, 8, 8, 8, 8, 8, 8, 8, 8, 8, 8, 8, 8, 8, 8, 8, 8, 8, 8, 8, 8, 8, 8, 8, 8, 8, 8, 8, 8, 8, 8, 8, 8, 8, 8, 8, 8, 8, 8, 8, 8, 8, 8, 8, 8, 8, 8, 8, 8, 8, 8, 8, 8, 8, 8, 8, 8, 8, 8, 8, 8, 8, 8, 8, 8, 8, 8, 8, 8, 8, 8, 8, 8, 8, 8, 8, 8, 8, 8, 8, 8, 8, 8, 8, 8, 8, 8, 8, 8, 8, 8, 8, 8, 8, 8, 8, 8, 8, 8, 8, 8, 8, 8, 8, 8, 8, 8, 8, 8, 8, 8, 8, 8, 8, 8, 8, 8, 8, 8, 8, 8, 8, 8, 8, 8, 8, 8, 8, 8, 8, 8, 8, 8, 8, 8, 8, 8, 8, 8, 8, 8, 8, 8, 8, 8, 8, 8, 8, 8, 8, 8, 8, 8, 8, 8, 8, 8, 8, 8, 8, 8, 8, 8, 8, 8, 8, 8, 8, 8, 8, 8, 8, 8, 8, 8, 8, 8, 8, 8, 8, 8, 8, 8, 8, 8, 8, 8, 8, 8, 8, 8, 8, 8, 8, 8, 8, 8, 8, 8, 8, 8, 8, 8, 8, 8, 8, 8, 8, 8, 8, 8, 8, 8, 8, 8, 8, 8, 8, 8, 8, 8, 8, 8, 8, 8, 8, 8, 8, 8, 8, 8, 8, 8, 8, 8, 8, 8, 8, 8, 8, 8, 8, 8, 8, 8, 8, 8, 8, 8, 8, 8, 8, 8, 8, 8, 8, 8, 8, 8, 8, 8, 8, 8, 8, 8, 8, 8, 8, 8, 8, 8, 8, 8, 8, 8, 8, 8, 8, 8, 8, 8, 8, 8, 8, 8, 8, 8, 8, 8, 8, 8, 8, 8, 8, 8, 8, 8, 8, 8, 8, 8, 8, 8, 8, 8, 8, 8, 8, 8, 8, 8, 8, 8, 8, 8, 8, 8, 8, 8, 8, 8, 8, 8, 8, 8, 8, 8, 8, 8, 8, 8, 8, 8, 8, 8, 8, 8, 8, 8, 8, 8, 8, 8, 8, 8, 8, 8, 8, 8, 8, 8, 8, 8, 8, 8, 8, 8, 8, 8, 8, 8, 8, 8, 8, 8, 8, 8, 8, 8, 8, 8, 8, 8, 8, 8, 8, 8, 8, 8, 8, 8, 8, 8, 8, 8, 8, 8, 8, 8, 8, 8, 8, 8, 8, 8, 8, 8, 8, 8, 8, 8, 8, 8, 8, 8, 8, 8, 8, 8, 8, 8, 8, 8, 8, 8, 8, 8, 8, 8, 8, 8, 8, 8, 8, 8, 8, 8, 8, 8, 8, 8, 8, 8, 8, 8, 8, 8, 8, 8, 8, 8, 8, 8, 8, 8, 8, 8, 8, 8, 8, 8, 8, 8, 8, 8, 8, 8, 8, 8, 8, 8, 8, 8, 8, 8, 8, 8, 8, 8, 8, 8, 8, 8, 8, 8, 8, 8, 8, 8, 8, 8, 8, 8, 8, 8, 8, 8, 8, 8, 8, 8, 8, 8, 8, 8, 8, 8, 8, 8, 8, 8, 8, 8, 8, 8, 8, 8, 8, 8, 8, 8, 8, 8, 8, 8, 8, 8, 8, 8, 8, 8, 8, 8, 8, 8, 8, 8, 8, 8, 8, 8, 8, 8, 8, 8, 8, 8, 8, 8, 8, 8, 8, 8, 8, 8, 8, 8, 8, 8, 8, 8, 8, 8, 8, 8, 8, 8, 8, 8, 8, 8, 8, 8, 8, 8, 8, 8, 8, 8, 8, 8, 8, 8, 8, 8, 8, 8, 8, 8, 8, 8, 8, 8, 8, 8, 8, 8, 8, 8, 8, 8, 8, 8, 8, 8, 8, 8, 8, 8, 8, 8, 8, 8, 8, 8, 8, 8, 8, 8, 8, 8, 8, 8, 8, 8, 8, 8, 8, 8, 8, 8, 8, 8, 8, 8, 8, 8, 8, 8, 8, 8, 8, 8, 8, 8, 8, 8, 8, 8, 8, 8, 8, 8, 8, 8, 8, 8, 8, 8, 8, 8, 8, 8, 8, 8, 8, 8, 8, 8, 8, 8, 8, 8, 8, 8, 8, 8, 8, 8, 8, 8, 8, 8, 8, 8, 8, 8, 8, 8, 8, 8, 8, 8, 8, 8, 8, 8, 8, 8, 8, 8, 8, 8, 8, 8, 8, 8, 8, 8, 8, 8, 8, 8, 8, 8, 8, 8, 8, 8, 8, 8, 8, 8, 8, 8, 8, 8, 8, 8, 8, 8, 8, 8, 8, 8, 8, 8, 8, 8, 8, 8, 8, 8, 8, 8, 8, 8, 8, 8, 8, 8, 8, 8, 8, 8, 8, 8, 8, 8, 8, 8, 8, 8, 8, 8, 8, 8, 8, 8, 8, 8, 8, 8, 8, 8, 8, 8, 8, 8, 8, 8, 8, 8, 8, 8, 8, 8, 8, 8, 8, 8, 8, 8, 8, 8, 8, 8, 8, 8, 8, 8, 8, 8, 8, 8, 8, 8, 8, 8, 8, 8, 8, 8, 8, 8, 8, 8, 8, 8, 8, 8, 8, 8, 8, 8, 8, 8, 8, 8, 8, 8, 8, 8, 8, 8, 8, 8, 8, 8, 8, 8, 8, 8, 8, 8, 8, 8, 8, 8, 8, 8, 8, 8, 8, 8, 8, 8, 8, 8, 8, 8, 8, 8, 8, 8, 8, 8, 8, 8, 8, 8, 8, 8, 8, 8, 8, 8, 8, 8, 8, 8, 8, 8, 8, 8, 8, 8, 8, 8, 8, 8, 8, 8, 8, 8, 8, 8, 8, 8, 8, 8, 8, 8, 8, 8, 8, 8, 8, 8, 8, 8, 8, 8, 8, 8, 8, 8, 8, 8, 8, 8, 8, 8, 8, 8, 8, 8, 8, 8, 8, 8, 8, 8, 8, 8, 8, 8, 8, 8, 8, 8, 8, 8, 8, 8, 8, 8, 8, 8, 8, 8, 8, 8, 8, 8, 8, 8, 8, 8, 8, 8, 8, 8, 8, 8, 8, 8, 8, 8, 8, 8, 8, 8, 8, 8, 8, 8, 8, 8, 8, 8, 8, 8, 8, 8, 8, 8, 8, 8, 8, 8, 8, 8, 8, 8, 8, 8, 8, 8, 8, 8, 8, 8, 8, 8, 8, 8, 8, 8, 8, 8, 8, 8, 8, 8, 8, 8, 8, 8, 8, 8, 8, 8, 8, 8, 8, 8, 8, 8, 8, 8, 8, 8, 8, 8, 8, 8, 8, 8, 8, 8, 8, 8, 8, 8, 8, 8, 8, 8, 8, 8, 8, 8, 8, 8, 8, 8, 8, 8, 8, 8, 8, 8, 8, 8, 8, 8, 8, 8, 8, 8, 8, 8, 8, 8, 8, 8, 8, 8, 8, 8, 8, 8, 8, 8, 8, 8, 8, 8, 8, 8, 8, 8, 8, 8, 8, 8, 8, 8, 8, 8, 8, 8, 8, 8, 8, 8, 8, 8, 8, 8, 8, 8, 8, 8, 8, 8, 8, 8, 8, 8, 8, 8, 8, 8, 8, 8, 8, 8, 8, 8, 8]\n"
     ]
    },
    {
     "ename": "TypeError",
     "evalue": "unhashable type: 'numpy.ndarray'",
     "output_type": "error",
     "traceback": [
      "\u001b[0;31m---------------------------------------------------------------------------\u001b[0m",
      "\u001b[0;31mTypeError\u001b[0m                                 Traceback (most recent call last)",
      "Cell \u001b[0;32mIn[318], line 7\u001b[0m\n\u001b[1;32m      5\u001b[0m \u001b[38;5;66;03m# Plot the amount of repeated nodes for each task\u001b[39;00m\n\u001b[1;32m      6\u001b[0m plt\u001b[38;5;241m.\u001b[39mfigure(figsize\u001b[38;5;241m=\u001b[39m(\u001b[38;5;241m10\u001b[39m, \u001b[38;5;241m6\u001b[39m))\n\u001b[0;32m----> 7\u001b[0m \u001b[43mplt\u001b[49m\u001b[38;5;241;43m.\u001b[39;49m\u001b[43mbar\u001b[49m\u001b[43m(\u001b[49m\u001b[38;5;28;43mrange\u001b[39;49m\u001b[43m(\u001b[49m\u001b[38;5;28;43mlen\u001b[39;49m\u001b[43m(\u001b[49m\u001b[43mrepeated_nodes_per_task\u001b[49m\u001b[43m)\u001b[49m\u001b[43m)\u001b[49m\u001b[43m,\u001b[49m\u001b[43m \u001b[49m\u001b[43mrepeated_nodes_per_task\u001b[49m\u001b[43m)\u001b[49m\n\u001b[1;32m      8\u001b[0m plt\u001b[38;5;241m.\u001b[39mxlabel(\u001b[38;5;124m'\u001b[39m\u001b[38;5;124mTask\u001b[39m\u001b[38;5;124m'\u001b[39m)\n\u001b[1;32m      9\u001b[0m plt\u001b[38;5;241m.\u001b[39mylabel(\u001b[38;5;124m'\u001b[39m\u001b[38;5;124mRepeated Nodes\u001b[39m\u001b[38;5;124m'\u001b[39m)\n",
      "File \u001b[0;32m~/miniconda3/envs/py38/lib/python3.8/site-packages/matplotlib/pyplot.py:2439\u001b[0m, in \u001b[0;36mbar\u001b[0;34m(x, height, width, bottom, align, data, **kwargs)\u001b[0m\n\u001b[1;32m   2435\u001b[0m \u001b[38;5;129m@_copy_docstring_and_deprecators\u001b[39m(Axes\u001b[38;5;241m.\u001b[39mbar)\n\u001b[1;32m   2436\u001b[0m \u001b[38;5;28;01mdef\u001b[39;00m \u001b[38;5;21mbar\u001b[39m(\n\u001b[1;32m   2437\u001b[0m         x, height, width\u001b[38;5;241m=\u001b[39m\u001b[38;5;241m0.8\u001b[39m, bottom\u001b[38;5;241m=\u001b[39m\u001b[38;5;28;01mNone\u001b[39;00m, \u001b[38;5;241m*\u001b[39m, align\u001b[38;5;241m=\u001b[39m\u001b[38;5;124m'\u001b[39m\u001b[38;5;124mcenter\u001b[39m\u001b[38;5;124m'\u001b[39m,\n\u001b[1;32m   2438\u001b[0m         data\u001b[38;5;241m=\u001b[39m\u001b[38;5;28;01mNone\u001b[39;00m, \u001b[38;5;241m*\u001b[39m\u001b[38;5;241m*\u001b[39mkwargs):\n\u001b[0;32m-> 2439\u001b[0m     \u001b[38;5;28;01mreturn\u001b[39;00m \u001b[43mgca\u001b[49m\u001b[43m(\u001b[49m\u001b[43m)\u001b[49m\u001b[38;5;241;43m.\u001b[39;49m\u001b[43mbar\u001b[49m\u001b[43m(\u001b[49m\n\u001b[1;32m   2440\u001b[0m \u001b[43m        \u001b[49m\u001b[43mx\u001b[49m\u001b[43m,\u001b[49m\u001b[43m \u001b[49m\u001b[43mheight\u001b[49m\u001b[43m,\u001b[49m\u001b[43m \u001b[49m\u001b[43mwidth\u001b[49m\u001b[38;5;241;43m=\u001b[39;49m\u001b[43mwidth\u001b[49m\u001b[43m,\u001b[49m\u001b[43m \u001b[49m\u001b[43mbottom\u001b[49m\u001b[38;5;241;43m=\u001b[39;49m\u001b[43mbottom\u001b[49m\u001b[43m,\u001b[49m\u001b[43m \u001b[49m\u001b[43malign\u001b[49m\u001b[38;5;241;43m=\u001b[39;49m\u001b[43malign\u001b[49m\u001b[43m,\u001b[49m\n\u001b[1;32m   2441\u001b[0m \u001b[43m        \u001b[49m\u001b[38;5;241;43m*\u001b[39;49m\u001b[38;5;241;43m*\u001b[39;49m\u001b[43m(\u001b[49m\u001b[43m{\u001b[49m\u001b[38;5;124;43m\"\u001b[39;49m\u001b[38;5;124;43mdata\u001b[39;49m\u001b[38;5;124;43m\"\u001b[39;49m\u001b[43m:\u001b[49m\u001b[43m \u001b[49m\u001b[43mdata\u001b[49m\u001b[43m}\u001b[49m\u001b[43m \u001b[49m\u001b[38;5;28;43;01mif\u001b[39;49;00m\u001b[43m \u001b[49m\u001b[43mdata\u001b[49m\u001b[43m \u001b[49m\u001b[38;5;129;43;01mis\u001b[39;49;00m\u001b[43m \u001b[49m\u001b[38;5;129;43;01mnot\u001b[39;49;00m\u001b[43m \u001b[49m\u001b[38;5;28;43;01mNone\u001b[39;49;00m\u001b[43m \u001b[49m\u001b[38;5;28;43;01melse\u001b[39;49;00m\u001b[43m \u001b[49m\u001b[43m{\u001b[49m\u001b[43m}\u001b[49m\u001b[43m)\u001b[49m\u001b[43m,\u001b[49m\u001b[43m \u001b[49m\u001b[38;5;241;43m*\u001b[39;49m\u001b[38;5;241;43m*\u001b[39;49m\u001b[43mkwargs\u001b[49m\u001b[43m)\u001b[49m\n",
      "File \u001b[0;32m~/miniconda3/envs/py38/lib/python3.8/site-packages/matplotlib/__init__.py:1446\u001b[0m, in \u001b[0;36m_preprocess_data.<locals>.inner\u001b[0;34m(ax, data, *args, **kwargs)\u001b[0m\n\u001b[1;32m   1443\u001b[0m \u001b[38;5;129m@functools\u001b[39m\u001b[38;5;241m.\u001b[39mwraps(func)\n\u001b[1;32m   1444\u001b[0m \u001b[38;5;28;01mdef\u001b[39;00m \u001b[38;5;21minner\u001b[39m(ax, \u001b[38;5;241m*\u001b[39margs, data\u001b[38;5;241m=\u001b[39m\u001b[38;5;28;01mNone\u001b[39;00m, \u001b[38;5;241m*\u001b[39m\u001b[38;5;241m*\u001b[39mkwargs):\n\u001b[1;32m   1445\u001b[0m     \u001b[38;5;28;01mif\u001b[39;00m data \u001b[38;5;129;01mis\u001b[39;00m \u001b[38;5;28;01mNone\u001b[39;00m:\n\u001b[0;32m-> 1446\u001b[0m         \u001b[38;5;28;01mreturn\u001b[39;00m \u001b[43mfunc\u001b[49m\u001b[43m(\u001b[49m\u001b[43max\u001b[49m\u001b[43m,\u001b[49m\u001b[43m \u001b[49m\u001b[38;5;241;43m*\u001b[39;49m\u001b[38;5;28;43mmap\u001b[39;49m\u001b[43m(\u001b[49m\u001b[43msanitize_sequence\u001b[49m\u001b[43m,\u001b[49m\u001b[43m \u001b[49m\u001b[43margs\u001b[49m\u001b[43m)\u001b[49m\u001b[43m,\u001b[49m\u001b[43m \u001b[49m\u001b[38;5;241;43m*\u001b[39;49m\u001b[38;5;241;43m*\u001b[39;49m\u001b[43mkwargs\u001b[49m\u001b[43m)\u001b[49m\n\u001b[1;32m   1448\u001b[0m     bound \u001b[38;5;241m=\u001b[39m new_sig\u001b[38;5;241m.\u001b[39mbind(ax, \u001b[38;5;241m*\u001b[39margs, \u001b[38;5;241m*\u001b[39m\u001b[38;5;241m*\u001b[39mkwargs)\n\u001b[1;32m   1449\u001b[0m     auto_label \u001b[38;5;241m=\u001b[39m (bound\u001b[38;5;241m.\u001b[39marguments\u001b[38;5;241m.\u001b[39mget(label_namer)\n\u001b[1;32m   1450\u001b[0m                   \u001b[38;5;129;01mor\u001b[39;00m bound\u001b[38;5;241m.\u001b[39mkwargs\u001b[38;5;241m.\u001b[39mget(label_namer))\n",
      "File \u001b[0;32m~/miniconda3/envs/py38/lib/python3.8/site-packages/matplotlib/axes/_axes.py:2384\u001b[0m, in \u001b[0;36mAxes.bar\u001b[0;34m(self, x, height, width, bottom, align, **kwargs)\u001b[0m\n\u001b[1;32m   2381\u001b[0m         x \u001b[38;5;241m=\u001b[39m \u001b[38;5;241m0\u001b[39m\n\u001b[1;32m   2383\u001b[0m \u001b[38;5;28;01mif\u001b[39;00m orientation \u001b[38;5;241m==\u001b[39m \u001b[38;5;124m'\u001b[39m\u001b[38;5;124mvertical\u001b[39m\u001b[38;5;124m'\u001b[39m:\n\u001b[0;32m-> 2384\u001b[0m     \u001b[38;5;28;43mself\u001b[39;49m\u001b[38;5;241;43m.\u001b[39;49m\u001b[43m_process_unit_info\u001b[49m\u001b[43m(\u001b[49m\n\u001b[1;32m   2385\u001b[0m \u001b[43m        \u001b[49m\u001b[43m[\u001b[49m\u001b[43m(\u001b[49m\u001b[38;5;124;43m\"\u001b[39;49m\u001b[38;5;124;43mx\u001b[39;49m\u001b[38;5;124;43m\"\u001b[39;49m\u001b[43m,\u001b[49m\u001b[43m \u001b[49m\u001b[43mx\u001b[49m\u001b[43m)\u001b[49m\u001b[43m,\u001b[49m\u001b[43m \u001b[49m\u001b[43m(\u001b[49m\u001b[38;5;124;43m\"\u001b[39;49m\u001b[38;5;124;43my\u001b[39;49m\u001b[38;5;124;43m\"\u001b[39;49m\u001b[43m,\u001b[49m\u001b[43m \u001b[49m\u001b[43mheight\u001b[49m\u001b[43m)\u001b[49m\u001b[43m]\u001b[49m\u001b[43m,\u001b[49m\u001b[43m \u001b[49m\u001b[43mkwargs\u001b[49m\u001b[43m,\u001b[49m\u001b[43m \u001b[49m\u001b[43mconvert\u001b[49m\u001b[38;5;241;43m=\u001b[39;49m\u001b[38;5;28;43;01mFalse\u001b[39;49;00m\u001b[43m)\u001b[49m\n\u001b[1;32m   2386\u001b[0m     \u001b[38;5;28;01mif\u001b[39;00m log:\n\u001b[1;32m   2387\u001b[0m         \u001b[38;5;28mself\u001b[39m\u001b[38;5;241m.\u001b[39mset_yscale(\u001b[38;5;124m'\u001b[39m\u001b[38;5;124mlog\u001b[39m\u001b[38;5;124m'\u001b[39m, nonpositive\u001b[38;5;241m=\u001b[39m\u001b[38;5;124m'\u001b[39m\u001b[38;5;124mclip\u001b[39m\u001b[38;5;124m'\u001b[39m)\n",
      "File \u001b[0;32m~/miniconda3/envs/py38/lib/python3.8/site-packages/matplotlib/axes/_base.py:2549\u001b[0m, in \u001b[0;36m_AxesBase._process_unit_info\u001b[0;34m(self, datasets, kwargs, convert)\u001b[0m\n\u001b[1;32m   2547\u001b[0m     \u001b[38;5;66;03m# Update from data if axis is already set but no unit is set yet.\u001b[39;00m\n\u001b[1;32m   2548\u001b[0m     \u001b[38;5;28;01mif\u001b[39;00m axis \u001b[38;5;129;01mis\u001b[39;00m \u001b[38;5;129;01mnot\u001b[39;00m \u001b[38;5;28;01mNone\u001b[39;00m \u001b[38;5;129;01mand\u001b[39;00m data \u001b[38;5;129;01mis\u001b[39;00m \u001b[38;5;129;01mnot\u001b[39;00m \u001b[38;5;28;01mNone\u001b[39;00m \u001b[38;5;129;01mand\u001b[39;00m \u001b[38;5;129;01mnot\u001b[39;00m axis\u001b[38;5;241m.\u001b[39mhave_units():\n\u001b[0;32m-> 2549\u001b[0m         \u001b[43maxis\u001b[49m\u001b[38;5;241;43m.\u001b[39;49m\u001b[43mupdate_units\u001b[49m\u001b[43m(\u001b[49m\u001b[43mdata\u001b[49m\u001b[43m)\u001b[49m\n\u001b[1;32m   2550\u001b[0m \u001b[38;5;28;01mfor\u001b[39;00m axis_name, axis \u001b[38;5;129;01min\u001b[39;00m axis_map\u001b[38;5;241m.\u001b[39mitems():\n\u001b[1;32m   2551\u001b[0m     \u001b[38;5;66;03m# Return if no axis is set.\u001b[39;00m\n\u001b[1;32m   2552\u001b[0m     \u001b[38;5;28;01mif\u001b[39;00m axis \u001b[38;5;129;01mis\u001b[39;00m \u001b[38;5;28;01mNone\u001b[39;00m:\n",
      "File \u001b[0;32m~/miniconda3/envs/py38/lib/python3.8/site-packages/matplotlib/axis.py:1713\u001b[0m, in \u001b[0;36mAxis.update_units\u001b[0;34m(self, data)\u001b[0m\n\u001b[1;32m   1711\u001b[0m neednew \u001b[38;5;241m=\u001b[39m \u001b[38;5;28mself\u001b[39m\u001b[38;5;241m.\u001b[39mconverter \u001b[38;5;241m!=\u001b[39m converter\n\u001b[1;32m   1712\u001b[0m \u001b[38;5;28mself\u001b[39m\u001b[38;5;241m.\u001b[39mconverter \u001b[38;5;241m=\u001b[39m converter\n\u001b[0;32m-> 1713\u001b[0m default \u001b[38;5;241m=\u001b[39m \u001b[38;5;28;43mself\u001b[39;49m\u001b[38;5;241;43m.\u001b[39;49m\u001b[43mconverter\u001b[49m\u001b[38;5;241;43m.\u001b[39;49m\u001b[43mdefault_units\u001b[49m\u001b[43m(\u001b[49m\u001b[43mdata\u001b[49m\u001b[43m,\u001b[49m\u001b[43m \u001b[49m\u001b[38;5;28;43mself\u001b[39;49m\u001b[43m)\u001b[49m\n\u001b[1;32m   1714\u001b[0m \u001b[38;5;28;01mif\u001b[39;00m default \u001b[38;5;129;01mis\u001b[39;00m \u001b[38;5;129;01mnot\u001b[39;00m \u001b[38;5;28;01mNone\u001b[39;00m \u001b[38;5;129;01mand\u001b[39;00m \u001b[38;5;28mself\u001b[39m\u001b[38;5;241m.\u001b[39munits \u001b[38;5;129;01mis\u001b[39;00m \u001b[38;5;28;01mNone\u001b[39;00m:\n\u001b[1;32m   1715\u001b[0m     \u001b[38;5;28mself\u001b[39m\u001b[38;5;241m.\u001b[39mset_units(default)\n",
      "File \u001b[0;32m~/miniconda3/envs/py38/lib/python3.8/site-packages/matplotlib/category.py:105\u001b[0m, in \u001b[0;36mStrCategoryConverter.default_units\u001b[0;34m(data, axis)\u001b[0m\n\u001b[1;32m    103\u001b[0m \u001b[38;5;66;03m# the conversion call stack is default_units -> axis_info -> convert\u001b[39;00m\n\u001b[1;32m    104\u001b[0m \u001b[38;5;28;01mif\u001b[39;00m axis\u001b[38;5;241m.\u001b[39munits \u001b[38;5;129;01mis\u001b[39;00m \u001b[38;5;28;01mNone\u001b[39;00m:\n\u001b[0;32m--> 105\u001b[0m     axis\u001b[38;5;241m.\u001b[39mset_units(\u001b[43mUnitData\u001b[49m\u001b[43m(\u001b[49m\u001b[43mdata\u001b[49m\u001b[43m)\u001b[49m)\n\u001b[1;32m    106\u001b[0m \u001b[38;5;28;01melse\u001b[39;00m:\n\u001b[1;32m    107\u001b[0m     axis\u001b[38;5;241m.\u001b[39munits\u001b[38;5;241m.\u001b[39mupdate(data)\n",
      "File \u001b[0;32m~/miniconda3/envs/py38/lib/python3.8/site-packages/matplotlib/category.py:181\u001b[0m, in \u001b[0;36mUnitData.__init__\u001b[0;34m(self, data)\u001b[0m\n\u001b[1;32m    179\u001b[0m \u001b[38;5;28mself\u001b[39m\u001b[38;5;241m.\u001b[39m_counter \u001b[38;5;241m=\u001b[39m itertools\u001b[38;5;241m.\u001b[39mcount()\n\u001b[1;32m    180\u001b[0m \u001b[38;5;28;01mif\u001b[39;00m data \u001b[38;5;129;01mis\u001b[39;00m \u001b[38;5;129;01mnot\u001b[39;00m \u001b[38;5;28;01mNone\u001b[39;00m:\n\u001b[0;32m--> 181\u001b[0m     \u001b[38;5;28;43mself\u001b[39;49m\u001b[38;5;241;43m.\u001b[39;49m\u001b[43mupdate\u001b[49m\u001b[43m(\u001b[49m\u001b[43mdata\u001b[49m\u001b[43m)\u001b[49m\n",
      "File \u001b[0;32m~/miniconda3/envs/py38/lib/python3.8/site-packages/matplotlib/category.py:214\u001b[0m, in \u001b[0;36mUnitData.update\u001b[0;34m(self, data)\u001b[0m\n\u001b[1;32m    212\u001b[0m \u001b[38;5;66;03m# check if convertible to number:\u001b[39;00m\n\u001b[1;32m    213\u001b[0m convertible \u001b[38;5;241m=\u001b[39m \u001b[38;5;28;01mTrue\u001b[39;00m\n\u001b[0;32m--> 214\u001b[0m \u001b[38;5;28;01mfor\u001b[39;00m val \u001b[38;5;129;01min\u001b[39;00m \u001b[43mOrderedDict\u001b[49m\u001b[38;5;241;43m.\u001b[39;49m\u001b[43mfromkeys\u001b[49m\u001b[43m(\u001b[49m\u001b[43mdata\u001b[49m\u001b[43m)\u001b[49m:\n\u001b[1;32m    215\u001b[0m     \u001b[38;5;66;03m# OrderedDict just iterates over unique values in data.\u001b[39;00m\n\u001b[1;32m    216\u001b[0m     _api\u001b[38;5;241m.\u001b[39mcheck_isinstance((\u001b[38;5;28mstr\u001b[39m, \u001b[38;5;28mbytes\u001b[39m), value\u001b[38;5;241m=\u001b[39mval)\n\u001b[1;32m    217\u001b[0m     \u001b[38;5;28;01mif\u001b[39;00m convertible:\n\u001b[1;32m    218\u001b[0m         \u001b[38;5;66;03m# this will only be called so long as convertible is True.\u001b[39;00m\n",
      "\u001b[0;31mTypeError\u001b[0m: unhashable type: 'numpy.ndarray'"
     ]
    },
    {
     "data": {
      "image/png": "[encoded data removed]",
      "text/plain": [
       "<Figure size 1000x600 with 1 Axes>"
      ]
     },
     "metadata": {},
     "output_type": "display_data"
    }
   ],
   "source": [
    "# Plot the amount of repeated nodes per task\n",
    "repeated_nodes_count = [len(nodes) for nodes in repeated_nodes_per_task]\n",
    "print('Repeated nodes count:', repeated_nodes_count)\n",
    "\n",
    "# Plot the amount of repeated nodes for each task\n",
    "plt.figure(figsize=(10, 6))\n",
    "plt.bar(range(len(repeated_nodes_count)), repeated_nodes_count)\n",
    "plt.xlabel('Task')\n",
    "plt.ylabel('Repeated Nodes')\n",
    "plt.title('Repeated Nodes Per Task')\n",
    "plt.grid(True)\n",
    "plt.show()\n",
    "\n"
   ]
  },
  {
   "cell_type": "code",
   "execution_count": 323,
   "metadata": {},
   "outputs": [
    {
     "data": {
      "image/png": "[encoded data removed]",
      "text/plain": [
       "<Figure size 1000x600 with 1 Axes>"
      ]
     },
     "metadata": {},
     "output_type": "display_data"
    }
   ],
   "source": [
    "# For all the k and n compare the precision per task\n",
    "precision_per_task = []\n",
    "precision_per_task_reranker = []\n",
    "for task in results:\n",
    "    task_precision = {'k5': [], 'k10': [], 'k30': []}\n",
    "    task_precision_reranker = {'k5': [], 'k10': [], 'k30': []}\n",
    "    for action in task['k30']:\n",
    "        task_precision['k5'].append(task['k5'][action]['novel']['n0 precision'])\n",
    "        task_precision['k10'].append(task['k10'][action]['novel']['n0 precision'])\n",
    "        task_precision['k30'].append(task['k30'][action]['novel']['n0 precision'])\n",
    "        \n",
    "        task_precision_reranker['k5'].append(task['k5'][action]['reranker']['n0 precision'])\n",
    "        task_precision_reranker['k10'].append(task['k10'][action]['reranker']['n0 precision'])\n",
    "        task_precision_reranker['k30'].append(task['k30'][action]['reranker']['n0 precision'])\n",
    "    precision_per_task.append(task_precision)\n",
    "    precision_per_task_reranker.append(task_precision_reranker)\n",
    "    \n",
    "# Calculate the average precision per task\n",
    "average_precision_per_task = []\n",
    "for task in precision_per_task:\n",
    "    average_precision = {'k5': 0, 'k10': 0, 'k30': 0}\n",
    "    for k in ['k5', 'k10', 'k30']:\n",
    "        average_precision[k] = sum(task[k]) / len(task[k])\n",
    "    average_precision_per_task.append(average_precision)\n",
    "    \n",
    "average_precision_per_task_reranker = []\n",
    "for task in precision_per_task_reranker:\n",
    "    average_precision = {'k5': 0, 'k10': 0, 'k30': 0}\n",
    "    for k in ['k5', 'k10', 'k30']:\n",
    "        average_precision[k] = sum(task[k]) / len(task[k])\n",
    "    average_precision_per_task_reranker.append(average_precision)    \n",
    "    \n",
    "# Plot the average precision per task\n",
    "average_precision_k5 = [task['k5'] for task in average_precision_per_task]\n",
    "average_precision_k10 = [task['k10'] for task in average_precision_per_task]\n",
    "average_precision_k30 = [task['k30'] for task in average_precision_per_task]\n",
    "\n",
    "average_precision_k5_reranker = [task['k5'] for task in average_precision_per_task_reranker]\n",
    "average_precision_k10_reranker = [task['k10'] for task in average_precision_per_task_reranker]\n",
    "average_precision_k30_reranker = [task['k30'] for task in average_precision_per_task_reranker]\n",
    "\n",
    "x = np.arange(len(average_precision_k5))  # the label locations\n",
    "width = 0.35  # \n",
    "\n",
    "# Plot the average precision per task\n",
    "plt.figure(figsize=(10, 6))\n",
    "plt.bar(x - width/2, average_precision_k10, width, label='k10', color='r')\n",
    "plt.bar(x + width/2, average_precision_k10_reranker, width, label='k10 reranker', color='b')\n",
    "\n",
    "\n",
    "# Labels and title\n",
    "plt.xlabel('Task')\n",
    "plt.ylabel('Precision')\n",
    "plt.title('Average Precision Per Task')\n",
    "plt.legend()\n",
    "# Show plot\n",
    "plt.show()"
   ]
  },
  {
   "cell_type": "markdown",
   "metadata": {},
   "source": [
    "## RAG TO LLM"
   ]
  },
  {
   "cell_type": "code",
   "execution_count": null,
   "metadata": {},
   "outputs": [],
   "source": [
    "# Load models and embeddings"
   ]
  },
  {
   "cell_type": "code",
   "execution_count": null,
   "metadata": {},
   "outputs": [],
   "source": [
    "# Generation prompt\n",
    "prompt = \"\"\"You are an autonomous intelligent agent tasked with navigating a web browser. You will be given web-based tasks. Your objective is to find the postive candidates (relevant elements on the website) to complete the task.\n",
    "Here's the information you'll have:\n",
    "\n",
    "1- The user's instructions: This is the task you're trying to complete.\n",
    "2- The current web page's elements to interact with: This is a simplified representation of the webpage, providing key information.\n",
    "3- The current web page's URL: This is the page you're currently navigating.\n",
    "4- The web page's domain: This is the field of the website you're currently on.\n",
    "5- The web page's subdomain: This is the specific section of the website you're currently on.\n",
    "6- Actions History: This is the history of the actions taken by the agent.\n",
    "\n",
    "Answer Format: In order to complete the task successfully, you need to provide the positive candidates in the following format:\n",
    " - Include all the candidates in the bracket.\n",
    " - Separate each candidate by a comma.\n",
    " - If there are no candidates, provide an empty bracket.\n",
    " \n",
    "To be successful, it is very important to follow the following rules:\n",
    "1. You should only issue a candidate that is valid given the current observation and user task\n",
    "2. You should reason the steps needed to achieve the task, extract what steps have been taken from the ACTIONS HISTORY, and issue the positive candidates for the next step.\n",
    "3. Issue stop action when you think you have achieved the objective. Don't generate anything after stop.\n",
    "4. You should not issue the same candidate twice.\"\"\""
   ]
  }
 ],
 "metadata": {
  "kernelspec": {
   "display_name": "py38",
   "language": "python",
   "name": "python3"
  },
  "language_info": {
   "codemirror_mode": {
    "name": "ipython",
    "version": 3
   },
   "file_extension": ".py",
   "mimetype": "text/x-python",
   "name": "python",
   "nbconvert_exporter": "python",
   "pygments_lexer": "ipython3",
   "version": "3.8.18"
  }
 },
 "nbformat": 4,
 "nbformat_minor": 2
}
